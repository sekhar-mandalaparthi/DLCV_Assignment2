{
 "cells": [
  {
   "cell_type": "markdown",
   "metadata": {},
   "source": [
    "# DLCV Assignment 2\n"
   ]
  },
  {
   "cell_type": "markdown",
   "metadata": {},
   "source": [
    "<b>Name:</b>  Raja Sekhar M <br>\n",
    "<b>SR No:</b> 6000014806"
   ]
  },
  {
   "cell_type": "markdown",
   "metadata": {},
   "source": [
    "## Experiment 1"
   ]
  },
  {
   "cell_type": "code",
   "execution_count": 11,
   "metadata": {},
   "outputs": [],
   "source": [
    "import torch\n",
    "import torchvision\n",
    "import torchvision.transforms as transforms\n",
    "\n",
    "import engine\n",
    "from model import ViT\n",
    "from utils import plot_learning_curves\n",
    "import utils"
   ]
  },
  {
   "cell_type": "code",
   "execution_count": 6,
   "metadata": {},
   "outputs": [],
   "source": [
    "device = \"cuda\" if torch.cuda.is_available() else \"cpu\""
   ]
  },
  {
   "cell_type": "code",
   "execution_count": 7,
   "metadata": {},
   "outputs": [
    {
     "name": "stdout",
     "output_type": "stream",
     "text": [
      "Files already downloaded and verified\n",
      "Files already downloaded and verified\n"
     ]
    }
   ],
   "source": [
    "trainset = torchvision.datasets.CIFAR10(root='./data', train=True, download=True, transform=transforms.ToTensor())\n",
    "trainloader = torch.utils.data.DataLoader(trainset, batch_size=4, shuffle=True, num_workers=2)\n",
    "testset = torchvision.datasets.CIFAR10(root='./data', train=False, download=True, transform=transforms.ToTensor())\n",
    "testloader = torch.utils.data.DataLoader(testset, batch_size=4, shuffle=False, num_workers=2)\n",
    "#classes = ('plane', 'car', 'bird', 'cat', 'deer', 'dog', 'frog', 'horse', 'ship', 'truck')"
   ]
  },
  {
   "cell_type": "code",
   "execution_count": 8,
   "metadata": {},
   "outputs": [
    {
     "data": {
      "text/plain": [
       "(50000, 10000)"
      ]
     },
     "execution_count": 8,
     "metadata": {},
     "output_type": "execute_result"
    }
   ],
   "source": [
    "len(trainset), len(testset)"
   ]
  },
  {
   "cell_type": "code",
   "execution_count": 9,
   "metadata": {},
   "outputs": [
    {
     "name": "stderr",
     "output_type": "stream",
     "text": [
      " 10%|█         | 1/10 [08:00<1:12:08, 480.93s/it]"
     ]
    },
    {
     "name": "stdout",
     "output_type": "stream",
     "text": [
      "Epoch: 1 | train_loss: 1.8693 | train_acc: 0.3163 | test_loss: 1.6230 | test_acc: 0.4208\n"
     ]
    },
    {
     "name": "stderr",
     "output_type": "stream",
     "text": [
      " 20%|██        | 2/10 [1:23:36<6:22:06, 2865.85s/it]"
     ]
    },
    {
     "name": "stdout",
     "output_type": "stream",
     "text": [
      "Epoch: 2 | train_loss: 1.5783 | train_acc: 0.4294 | test_loss: 1.4572 | test_acc: 0.4744\n"
     ]
    },
    {
     "name": "stderr",
     "output_type": "stream",
     "text": [
      " 30%|███       | 3/10 [1:38:49<3:50:20, 1974.29s/it]"
     ]
    },
    {
     "name": "stdout",
     "output_type": "stream",
     "text": [
      "Epoch: 3 | train_loss: 1.4578 | train_acc: 0.4746 | test_loss: 1.3776 | test_acc: 0.5012\n"
     ]
    },
    {
     "name": "stderr",
     "output_type": "stream",
     "text": [
      " 40%|████      | 4/10 [1:47:07<2:19:09, 1391.60s/it]"
     ]
    },
    {
     "name": "stdout",
     "output_type": "stream",
     "text": [
      "Epoch: 4 | train_loss: 1.3695 | train_acc: 0.5046 | test_loss: 1.3590 | test_acc: 0.5168\n"
     ]
    },
    {
     "name": "stderr",
     "output_type": "stream",
     "text": [
      " 50%|█████     | 5/10 [1:55:52<1:29:55, 1079.02s/it]"
     ]
    },
    {
     "name": "stdout",
     "output_type": "stream",
     "text": [
      "Epoch: 5 | train_loss: 1.3061 | train_acc: 0.5304 | test_loss: 1.2465 | test_acc: 0.5523\n"
     ]
    },
    {
     "name": "stderr",
     "output_type": "stream",
     "text": [
      " 60%|██████    | 6/10 [2:04:46<59:34, 893.55s/it]   "
     ]
    },
    {
     "name": "stdout",
     "output_type": "stream",
     "text": [
      "Epoch: 6 | train_loss: 1.2543 | train_acc: 0.5491 | test_loss: 1.2498 | test_acc: 0.5480\n"
     ]
    },
    {
     "name": "stderr",
     "output_type": "stream",
     "text": [
      " 70%|███████   | 7/10 [2:20:49<45:48, 916.25s/it]"
     ]
    },
    {
     "name": "stdout",
     "output_type": "stream",
     "text": [
      "Epoch: 7 | train_loss: 1.2088 | train_acc: 0.5687 | test_loss: 1.2357 | test_acc: 0.5650\n"
     ]
    },
    {
     "name": "stderr",
     "output_type": "stream",
     "text": [
      " 80%|████████  | 8/10 [2:29:21<26:15, 787.64s/it]"
     ]
    },
    {
     "name": "stdout",
     "output_type": "stream",
     "text": [
      "Epoch: 8 | train_loss: 1.1734 | train_acc: 0.5804 | test_loss: 1.1805 | test_acc: 0.5734\n"
     ]
    },
    {
     "name": "stderr",
     "output_type": "stream",
     "text": [
      " 90%|█████████ | 9/10 [2:37:50<11:40, 700.68s/it]"
     ]
    },
    {
     "name": "stdout",
     "output_type": "stream",
     "text": [
      "Epoch: 9 | train_loss: 1.1399 | train_acc: 0.5912 | test_loss: 1.1708 | test_acc: 0.5806\n"
     ]
    },
    {
     "name": "stderr",
     "output_type": "stream",
     "text": [
      "100%|██████████| 10/10 [2:46:40<00:00, 1000.01s/it]"
     ]
    },
    {
     "name": "stdout",
     "output_type": "stream",
     "text": [
      "Epoch: 10 | train_loss: 1.1059 | train_acc: 0.6034 | test_loss: 1.1811 | test_acc: 0.5823\n"
     ]
    },
    {
     "name": "stderr",
     "output_type": "stream",
     "text": [
      "\n"
     ]
    }
   ],
   "source": [
    "model = ViT(\n",
    "    img_size=32,\n",
    "    patch_size=4,\n",
    "    num_classes=10,\n",
    "    num_transformer_layers=6,\n",
    "    embedding_dim=64,\n",
    "    num_heads=4,\n",
    "    mlp_size=128\n",
    ")\n",
    "optimizer = torch.optim.Adam(model.parameters(), lr=3e-4)\n",
    "loss_fn = torch.nn.CrossEntropyLoss()\n",
    "results = engine.train(model=model,\n",
    "             train_dataloader=trainloader,\n",
    "             test_dataloader=testloader,\n",
    "             optimizer=optimizer,\n",
    "             loss_fn=loss_fn,\n",
    "             device=device,\n",
    "             epochs=10)"
   ]
  },
  {
   "cell_type": "code",
   "execution_count": 13,
   "metadata": {},
   "outputs": [
    {
     "data": {
      "image/png": "[encoded data removed]",
      "text/plain": [
       "<Figure size 1500x700 with 2 Axes>"
      ]
     },
     "metadata": {},
     "output_type": "display_data"
    }
   ],
   "source": [
    "utils.plot_learning_curves(results)"
   ]
  },
  {
   "cell_type": "markdown",
   "metadata": {},
   "source": [
    "## Experiment 2"
   ]
  },
  {
   "cell_type": "code",
   "execution_count": null,
   "metadata": {},
   "outputs": [],
   "source": [
    "trainset_5percent = trainset[:int(0.05 * len(trainset))]\n",
    "trainset_10percent = trainset[:int(0.1 * len(trainset))]\n",
    "trainset_25percent = trainset[:int(0.25 * len(trainset))]\n",
    "trainset_50percent = trainset[:int(0.5 * len(trainset))]\n",
    "\n",
    "trainloader_5percent = torch.utils.data.DataLoader(trainset_5percent, batch_size=4, shuffle=True, num_workers=2)\n",
    "trainloader_10percent = torch.utils.data.DataLoader(trainset_10percent, batch_size=4, shuffle=True, num_workers=2)\n",
    "trainloader_25percent = torch.utils.data.DataLoader(trainset_25percent, batch_size=4, shuffle=True, num_workers=2)\n",
    "trainloader_50percent = torch.utils.data.DataLoader(trainset_50percent, batch_size=4, shuffle=True, num_workers=2)\n",
    "\n",
    "results_vs_datasize = {'5%_data': None, '10%_data': None, '25%_data': None, '50%_data': None, '100%_data': None}\n",
    "\n",
    "data_sizes = ['5%_data', '10%_data', '25%_data', '50%_data', '100%_data']\n",
    "trainloaders = [trainloader_5percent, trainloader_10percent, trainloader_25percent, trainloader_50percent, trainloader]\n",
    "for i in range(len(data_sizes)):\n",
    "    data_size = data_sizes[i]\n",
    "    trainloader = trainloaders[i]\n",
    "    model = ViT(\n",
    "        img_size=32,\n",
    "        patch_size=4,\n",
    "        num_classes=10,\n",
    "        num_transformer_layers=6,\n",
    "        embedding_dim=64,\n",
    "        num_heads=4,\n",
    "        mlp_size=128\n",
    "    ).to(device)\n",
    "    optimizer = torch.optim.Adam(model.parameters(), lr=3e-4)\n",
    "    results = engine.train(model=model,\n",
    "                 train_dataloader=trainloader,\n",
    "                 test_dataloader=testloader,\n",
    "                 optimizer=optimizer,\n",
    "                 loss_fn=loss_fn,\n",
    "                 device=device,\n",
    "                 epochs=10)\n",
    "    results_vs_datasize[data_size] = results\n"
   ]
  },
  {
   "cell_type": "markdown",
   "metadata": {},
   "source": [
    "## Experiment 3"
   ]
  },
  {
   "cell_type": "code",
   "execution_count": null,
   "metadata": {},
   "outputs": [],
   "source": [
    "results_vs_patch_size = {'p_size=4': None, 'p_size=8': None, 'p_size=16': None}\n",
    "\n",
    "for patch_size in ['4', '8', '16']:\n",
    "    model = ViT(\n",
    "        img_size=32,\n",
    "        patch_size=int(patch_size),\n",
    "        num_classes=10,\n",
    "        num_transformer_layers=6,\n",
    "        embedding_dim=64,\n",
    "        num_heads=4,\n",
    "        mlp_size=128\n",
    "    ).to(device)\n",
    "    optimizer = torch.optim.Adam(model.parameters(), lr=3e-4)\n",
    "    results = engine.train(model=model,\n",
    "                 train_dataloader=trainloader,\n",
    "                 test_dataloader=testloader,\n",
    "                 optimizer=optimizer,\n",
    "                 loss_fn=loss_fn,\n",
    "                 device=device,\n",
    "                 epochs=10)\n",
    "    results_vs_patch_size[f'p_size={patch_size}'] = results"
   ]
  },
  {
   "cell_type": "markdown",
   "metadata": {},
   "source": [
    "## Experiment 4"
   ]
  },
  {
   "cell_type": "code",
   "execution_count": null,
   "metadata": {},
   "outputs": [],
   "source": [
    "results_vs_num_heads = {'n_heads=4': None, 'n_heads=8': None, 'n_heads=12': None}\n",
    "\n",
    "for num_heads in ['4', '8', '12']:\n",
    "    model = ViT(\n",
    "        img_size=32,\n",
    "        patch_size=4,\n",
    "        num_classes=10,\n",
    "        num_transformer_layers=6,\n",
    "        embedding_dim=64,\n",
    "        num_heads=int(num_heads),\n",
    "        mlp_size=128\n",
    "    ).to(device)\n",
    "    optimizer = torch.optim.Adam(model.parameters(), lr=3e-4)\n",
    "    results = engine.train(model=model,\n",
    "                 train_dataloader=trainloader,\n",
    "                 test_dataloader=testloader,\n",
    "                 optimizer=optimizer,\n",
    "                 loss_fn=loss_fn,\n",
    "                 device=device,\n",
    "                 epochs=10)\n",
    "    results_vs_num_heads[f'n_heads={num_heads}'] = results"
   ]
  },
  {
   "cell_type": "markdown",
   "metadata": {},
   "source": [
    "## Experiment 5"
   ]
  },
  {
   "cell_type": "code",
   "execution_count": null,
   "metadata": {},
   "outputs": [],
   "source": []
  },
  {
   "cell_type": "markdown",
   "metadata": {},
   "source": [
    "## Experiment 6"
   ]
  },
  {
   "cell_type": "markdown",
   "metadata": {},
   "source": []
  }
 ],
 "metadata": {
  "kernelspec": {
   "display_name": "dlcv-ass2",
   "language": "python",
   "name": "python3"
  },
  "language_info": {
   "codemirror_mode": {
    "name": "ipython",
    "version": 3
   },
   "file_extension": ".py",
   "mimetype": "text/x-python",
   "name": "python",
   "nbconvert_exporter": "python",
   "pygments_lexer": "ipython3",
   "version": "3.13.2"
  }
 },
 "nbformat": 4,
 "nbformat_minor": 2
}
